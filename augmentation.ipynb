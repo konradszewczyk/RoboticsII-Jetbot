{
 "cells": [
  {
   "cell_type": "code",
   "execution_count": null,
   "metadata": {},
   "outputs": [],
   "source": [
    "import itertools\n",
    "import os\n",
    "import shutil\n",
    "from os.path import exists, isfile, join\n",
    "\n",
    "import cv2\n",
    "import numpy as np\n",
    "import pandas as pd\n",
    "import PIL\n",
    "from IPython import get_ipython\n",
    "from IPython.display import display\n"
   ]
  },
  {
   "cell_type": "code",
   "execution_count": null,
   "metadata": {},
   "outputs": [],
   "source": [
    "if \"google.colab\" in str(get_ipython()):\n",
    "    from google.colab.patches import cv2_imshow\n",
    "\n",
    "    imshow = cv2_imshow\n",
    "else:\n",
    "\n",
    "    def imshow(a):\n",
    "        \"\"\"\n",
    "        img= img.clip(0, 255).astype('uint8')\n",
    "        plt.imshow(cv2.cvtColor(img, cv2.COLOR_BGR2RGB))\n",
    "        plt.axis('off')\n",
    "        \"\"\"\n",
    "        a = a.clip(0, 255).astype(\"uint8\")\n",
    "        if a.ndim == 3:\n",
    "            if a.shape[2] == 4:\n",
    "                a = cv2.cvtColor(a, cv2.COLOR_BGRA2RGBA)\n",
    "            else:\n",
    "                a = cv2.cvtColor(a, cv2.COLOR_BGR2RGB)\n",
    "        display(PIL.Image.fromarray(a))\n"
   ]
  },
  {
   "cell_type": "code",
   "execution_count": null,
   "metadata": {},
   "outputs": [],
   "source": [
    "def augment_img(img: np.array) -> list[np.array]:\n",
    "    img_hsv = cv2.cvtColor(img, cv2.COLOR_BGR2HSV).astype(np.int16)\n",
    "    light_changes = [1 + (change * 0.06) for change in range(-10, 6, 5)]\n",
    "    blur_sigma = [0.0, 0.5, 1]\n",
    "\n",
    "    new_images = []\n",
    "    for (light, sigma) in itertools.product(light_changes, blur_sigma):\n",
    "        if light_changes == 1 and blur_sigma == 0:\n",
    "            continue\n",
    "        new_img = img_hsv.copy()\n",
    "        new_img[..., 2] = new_img[..., 2] * light\n",
    "        new_img = np.clip(new_img, 0, 255).astype(np.uint8)\n",
    "        new_img = cv2.cvtColor(new_img, cv2.COLOR_HSV2BGR)\n",
    "        if sigma > 0.0:\n",
    "            new_img = cv2.GaussianBlur(new_img, (9, 9), sigma)\n",
    "        new_images.append(new_img)\n",
    "\n",
    "    return new_images\n"
   ]
  },
  {
   "cell_type": "markdown",
   "metadata": {},
   "source": [
    "### Data augmentation\n"
   ]
  },
  {
   "cell_type": "code",
   "execution_count": null,
   "metadata": {},
   "outputs": [],
   "source": [
    "original_path = \"dataset/original\"\n",
    "augmented_path = \"dataset/augmented\"\n",
    "column_names = [\n",
    "    \"run_no\",\n",
    "    \"step_no\",\n",
    "    \"augment_idx\",\n",
    "    \"forward\",\n",
    "    \"forward_next\",\n",
    "    \"left\",\n",
    "    \"left_next\",\n",
    "]\n",
    "new_csv = []\n",
    "catalog_counter = 1\n",
    "\n",
    "if exists(augmented_path):\n",
    "    shutil.rmtree(augmented_path)\n",
    "os.mkdir(augmented_path)\n",
    "\n",
    "for loc_name in os.listdir(original_path):\n",
    "    if isfile(join(original_path, loc_name)):\n",
    "        continue\n",
    "    folder_path = join(original_path, loc_name)\n",
    "    csv_path = folder_path + \".csv\"\n",
    "\n",
    "    augmented_folder_path = join(augmented_path, \"{:03d}\".format(catalog_counter))\n",
    "    os.mkdir(augmented_folder_path)\n",
    "\n",
    "    control_df = pd.read_csv(csv_path, header=None)\n",
    "    step_count = control_df[0].count()\n",
    "    for step_idx, step_no in enumerate(control_df[0]):\n",
    "        img_name = \"{:04d}.jpg\".format(step_no)\n",
    "        img_path = join(folder_path, img_name)\n",
    "        img = cv2.imread(img_path)\n",
    "        origin_name = \"{:04d}_{:03d}.jpg\".format(step_idx + 1, 0)\n",
    "        origin_path = join(augmented_folder_path, origin_name)\n",
    "        cv2.imwrite(origin_path, img)\n",
    "\n",
    "        forward = control_df[1][step_idx]\n",
    "        forward_next = (\n",
    "            control_df[1][step_idx + 1] if step_idx < step_count - 1 else forward\n",
    "        )\n",
    "        left = control_df[2][step_idx]\n",
    "        left_next = control_df[2][step_idx + 1] if step_idx < step_count - 1 else left\n",
    "\n",
    "        new_csv.append(\n",
    "            [catalog_counter, step_idx + 1, 0, forward, forward_next, left, left_next]\n",
    "        )\n",
    "\n",
    "        augmented_list = augment_img(img)\n",
    "        for aug_idx, aug_img in enumerate(augmented_list):\n",
    "            aug_name = \"{:04d}_{:03d}.jpg\".format(step_idx + 1, aug_idx + 1)\n",
    "            aug_path = join(augmented_folder_path, aug_name)\n",
    "            cv2.imwrite(aug_path, aug_img)\n",
    "\n",
    "            new_csv.append(\n",
    "                [\n",
    "                    catalog_counter,\n",
    "                    step_idx + 1,\n",
    "                    aug_idx + 1,\n",
    "                    forward,\n",
    "                    forward_next,\n",
    "                    left,\n",
    "                    left_next,\n",
    "                ]\n",
    "            )\n",
    "\n",
    "    catalog_counter += 1\n",
    "\n",
    "new_control_df = pd.DataFrame(new_csv, columns=column_names)\n",
    "new_control_df.to_csv(join(augmented_path, \"control.csv\"))\n"
   ]
  },
  {
   "cell_type": "markdown",
   "metadata": {},
   "source": [
    "### Train/test split\n"
   ]
  },
  {
   "cell_type": "code",
   "execution_count": null,
   "metadata": {},
   "outputs": [],
   "source": [
    "rng = np.random.default_rng(42)\n",
    "runs = new_control_df[\"run_no\"].unique()\n",
    "test_run = rng.choice(runs)\n",
    "\n",
    "train_test = []\n",
    "for run_no in runs:\n",
    "    if run_no == test_run:\n",
    "        train_test.append([run_no, \"test\"])\n",
    "    else:\n",
    "        train_test.append([run_no, \"train\"])\n",
    "\n",
    "train_test_df = pd.DataFrame(train_test, columns=[\"run_no\", \"split\"])\n",
    "train_test_df.to_csv(join(augmented_path, \"train_test.csv\"))\n"
   ]
  }
 ],
 "metadata": {
  "interpreter": {
   "hash": "d99d04fa9da62b01899aa3b88233d8d40ed3bd8f0c5ef7b3f2795f3fb70b9172"
  },
  "kernelspec": {
   "display_name": "Python 3.10.5 ('robotics')",
   "language": "python",
   "name": "python3"
  },
  "language_info": {
   "codemirror_mode": {
    "name": "ipython",
    "version": 3
   },
   "file_extension": ".py",
   "mimetype": "text/x-python",
   "name": "python",
   "nbconvert_exporter": "python",
   "pygments_lexer": "ipython3",
   "version": "3.10.5"
  },
  "orig_nbformat": 4
 },
 "nbformat": 4,
 "nbformat_minor": 2
}
