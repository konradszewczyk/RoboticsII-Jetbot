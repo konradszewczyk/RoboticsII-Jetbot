{
 "cells": [
  {
   "cell_type": "code",
   "execution_count": 1,
   "metadata": {},
   "outputs": [],
   "source": [
    "import cv2\n",
    "import os\n",
    "from os.path import isfile, join, exists\n",
    "from IPython.display import display, HTML\n",
    "import PIL\n",
    "import shutil\n",
    "import itertools\n",
    "from datetime import datetime\n",
    "\n",
    "import pandas as pd\n",
    "import numpy as np\n",
    "import matplotlib.pyplot as plt\n",
    "\n",
    "import torch\n",
    "from torch import optim\n",
    "from torch import nn\n",
    "from torch.utils.data import DataLoader\n",
    "from torch.nn.functional import mse_loss\n",
    "import torchvision.models as models\n",
    "from torchsummary import summary\n",
    "\n",
    "from model_src.data import JetBotDataset\n",
    "\n",
    "import warnings\n",
    "warnings.filterwarnings(\"ignore\")\n",
    "\n",
    "device = torch.device('cuda' if torch.cuda.is_available() else 'cpu')"
   ]
  },
  {
   "cell_type": "code",
   "execution_count": 2,
   "metadata": {},
   "outputs": [],
   "source": [
    "if 'google.colab' in str(get_ipython()):\n",
    "  from google.colab.patches import cv2_imshow\n",
    "  imshow = cv2_imshow\n",
    "else:\n",
    "  def imshow(a):\n",
    "    \"\"\"\n",
    "    img= img.clip(0, 255).astype('uint8')\n",
    "    plt.imshow(cv2.cvtColor(img, cv2.COLOR_BGR2RGB))\n",
    "    plt.axis('off')\n",
    "    \"\"\"\n",
    "    a = a.clip(0, 255).astype('uint8')\n",
    "    if a.ndim == 3:\n",
    "      if a.shape[2] == 4:\n",
    "        a = cv2.cvtColor(a, cv2.COLOR_BGRA2RGBA)\n",
    "      else:\n",
    "        a = cv2.cvtColor(a, cv2.COLOR_BGR2RGB)\n",
    "    display(PIL.Image.fromarray(a))"
   ]
  },
  {
   "cell_type": "code",
   "execution_count": 3,
   "metadata": {},
   "outputs": [],
   "source": [
    "train_dataset = JetBotDataset('dataset/augmented', use_next=True)\n",
    "test_dataset = JetBotDataset('dataset/augmented', split_type='test', use_next=True)"
   ]
  },
  {
   "cell_type": "code",
   "execution_count": 4,
   "metadata": {},
   "outputs": [],
   "source": [
    "train_dataloader = DataLoader(train_dataset, batch_size = 128, shuffle = True)\n",
    "test_dataloader = DataLoader(test_dataset, batch_size = 128, shuffle = True)"
   ]
  },
  {
   "cell_type": "code",
   "execution_count": 5,
   "metadata": {},
   "outputs": [],
   "source": [
    "class SqueezeNetBasedNetwork(nn.Module):\n",
    "    def __init__(self, output_attr: int):\n",
    "        super().__init__()\n",
    "        self.squeezenet = models.squeezenet1_1(pretrained=True)\n",
    "        self.regressor = nn.Sequential(\n",
    "            nn.Linear(1000, 64),\n",
    "            nn.Linear(64, output_attr)\n",
    "        )\n",
    "\n",
    "    def forward(self, x: torch.Tensor) -> torch.Tensor:\n",
    "        x = self.squeezenet(x)\n",
    "        x = self.regressor(x)\n",
    "        return torch.flatten(x, 1)"
   ]
  },
  {
   "cell_type": "code",
   "execution_count": 6,
   "metadata": {},
   "outputs": [],
   "source": [
    "model = SqueezeNetBasedNetwork(2)\n",
    "model = model.to(device)"
   ]
  },
  {
   "cell_type": "code",
   "execution_count": 7,
   "metadata": {},
   "outputs": [
    {
     "name": "stdout",
     "output_type": "stream",
     "text": [
      "0.285021, 0.184251\n",
      "0.336539, 0.184323\n",
      "0.237402, 0.183777\n",
      "0.237465, 0.183903\n",
      "0.237442, 0.183615\n",
      "0.237443, 0.183265\n",
      "0.237554, 0.184957\n",
      "0.237553, 0.180383\n",
      "0.237601, 0.183107\n",
      "0.237581, 0.183490\n",
      "0.237622, 0.184459\n",
      "0.237566, 0.194764\n",
      "0.237658, 0.183245\n",
      "0.237631, 0.185591\n",
      "0.237656, 0.178149\n",
      "0.237630, 0.183038\n",
      "0.237585, 0.179051\n",
      "0.237558, 0.181218\n",
      "0.237606, 0.181286\n",
      "0.237625, 0.178296\n",
      "0.237493, 0.186531\n",
      "0.237541, 0.182701\n",
      "0.237486, 0.185194\n",
      "0.237518, 0.185160\n",
      "0.237497, 0.184009\n",
      "0.237578, 0.187233\n",
      "0.237640, 0.188868\n",
      "0.237434, 0.185964\n",
      "0.237559, 0.179526\n",
      "0.237590, 0.182321\n",
      "0.237526, 0.184730\n",
      "0.237566, 0.185516\n",
      "0.237521, 0.180065\n",
      "0.237509, 0.180035\n",
      "0.237445, 0.184937\n",
      "0.237487, 0.180916\n"
     ]
    },
    {
     "ename": "KeyboardInterrupt",
     "evalue": "",
     "output_type": "error",
     "traceback": [
      "\u001b[1;31m---------------------------------------------------------------------------\u001b[0m",
      "\u001b[1;31mKeyboardInterrupt\u001b[0m                         Traceback (most recent call last)",
      "\u001b[1;32mc:\\Artificial Intelligence\\S6\\Robotics\\RoboticsII-Jetbot\\model_train.ipynb Cell 7'\u001b[0m in \u001b[0;36m<cell line: 9>\u001b[1;34m()\u001b[0m\n\u001b[0;32m     <a href='vscode-notebook-cell:/c%3A/Artificial%20Intelligence/S6/Robotics/RoboticsII-Jetbot/model_train.ipynb#ch0000007?line=10'>11</a>\u001b[0m model\u001b[39m.\u001b[39mtrain()\n\u001b[0;32m     <a href='vscode-notebook-cell:/c%3A/Artificial%20Intelligence/S6/Robotics/RoboticsII-Jetbot/model_train.ipynb#ch0000007?line=11'>12</a>\u001b[0m train_loss \u001b[39m=\u001b[39m \u001b[39m0.0\u001b[39m\n\u001b[1;32m---> <a href='vscode-notebook-cell:/c%3A/Artificial%20Intelligence/S6/Robotics/RoboticsII-Jetbot/model_train.ipynb#ch0000007?line=12'>13</a>\u001b[0m \u001b[39mfor\u001b[39;00m imgs, controls \u001b[39min\u001b[39;00m \u001b[39miter\u001b[39m(train_dataloader):\n\u001b[0;32m     <a href='vscode-notebook-cell:/c%3A/Artificial%20Intelligence/S6/Robotics/RoboticsII-Jetbot/model_train.ipynb#ch0000007?line=13'>14</a>\u001b[0m     imgs \u001b[39m=\u001b[39m imgs\u001b[39m.\u001b[39mto(device)\n\u001b[0;32m     <a href='vscode-notebook-cell:/c%3A/Artificial%20Intelligence/S6/Robotics/RoboticsII-Jetbot/model_train.ipynb#ch0000007?line=14'>15</a>\u001b[0m     controls \u001b[39m=\u001b[39m controls\u001b[39m.\u001b[39mto(device)\n",
      "File \u001b[1;32mc:\\Users\\konsz\\AppData\\Local\\Programs\\Python\\Python310\\lib\\site-packages\\torch\\utils\\data\\dataloader.py:530\u001b[0m, in \u001b[0;36m_BaseDataLoaderIter.__next__\u001b[1;34m(self)\u001b[0m\n\u001b[0;32m    <a href='file:///c%3A/Users/konsz/AppData/Local/Programs/Python/Python310/lib/site-packages/torch/utils/data/dataloader.py?line=527'>528</a>\u001b[0m \u001b[39mif\u001b[39;00m \u001b[39mself\u001b[39m\u001b[39m.\u001b[39m_sampler_iter \u001b[39mis\u001b[39;00m \u001b[39mNone\u001b[39;00m:\n\u001b[0;32m    <a href='file:///c%3A/Users/konsz/AppData/Local/Programs/Python/Python310/lib/site-packages/torch/utils/data/dataloader.py?line=528'>529</a>\u001b[0m     \u001b[39mself\u001b[39m\u001b[39m.\u001b[39m_reset()\n\u001b[1;32m--> <a href='file:///c%3A/Users/konsz/AppData/Local/Programs/Python/Python310/lib/site-packages/torch/utils/data/dataloader.py?line=529'>530</a>\u001b[0m data \u001b[39m=\u001b[39m \u001b[39mself\u001b[39;49m\u001b[39m.\u001b[39;49m_next_data()\n\u001b[0;32m    <a href='file:///c%3A/Users/konsz/AppData/Local/Programs/Python/Python310/lib/site-packages/torch/utils/data/dataloader.py?line=530'>531</a>\u001b[0m \u001b[39mself\u001b[39m\u001b[39m.\u001b[39m_num_yielded \u001b[39m+\u001b[39m\u001b[39m=\u001b[39m \u001b[39m1\u001b[39m\n\u001b[0;32m    <a href='file:///c%3A/Users/konsz/AppData/Local/Programs/Python/Python310/lib/site-packages/torch/utils/data/dataloader.py?line=531'>532</a>\u001b[0m \u001b[39mif\u001b[39;00m \u001b[39mself\u001b[39m\u001b[39m.\u001b[39m_dataset_kind \u001b[39m==\u001b[39m _DatasetKind\u001b[39m.\u001b[39mIterable \u001b[39mand\u001b[39;00m \\\n\u001b[0;32m    <a href='file:///c%3A/Users/konsz/AppData/Local/Programs/Python/Python310/lib/site-packages/torch/utils/data/dataloader.py?line=532'>533</a>\u001b[0m         \u001b[39mself\u001b[39m\u001b[39m.\u001b[39m_IterableDataset_len_called \u001b[39mis\u001b[39;00m \u001b[39mnot\u001b[39;00m \u001b[39mNone\u001b[39;00m \u001b[39mand\u001b[39;00m \\\n\u001b[0;32m    <a href='file:///c%3A/Users/konsz/AppData/Local/Programs/Python/Python310/lib/site-packages/torch/utils/data/dataloader.py?line=533'>534</a>\u001b[0m         \u001b[39mself\u001b[39m\u001b[39m.\u001b[39m_num_yielded \u001b[39m>\u001b[39m \u001b[39mself\u001b[39m\u001b[39m.\u001b[39m_IterableDataset_len_called:\n",
      "File \u001b[1;32mc:\\Users\\konsz\\AppData\\Local\\Programs\\Python\\Python310\\lib\\site-packages\\torch\\utils\\data\\dataloader.py:570\u001b[0m, in \u001b[0;36m_SingleProcessDataLoaderIter._next_data\u001b[1;34m(self)\u001b[0m\n\u001b[0;32m    <a href='file:///c%3A/Users/konsz/AppData/Local/Programs/Python/Python310/lib/site-packages/torch/utils/data/dataloader.py?line=567'>568</a>\u001b[0m \u001b[39mdef\u001b[39;00m \u001b[39m_next_data\u001b[39m(\u001b[39mself\u001b[39m):\n\u001b[0;32m    <a href='file:///c%3A/Users/konsz/AppData/Local/Programs/Python/Python310/lib/site-packages/torch/utils/data/dataloader.py?line=568'>569</a>\u001b[0m     index \u001b[39m=\u001b[39m \u001b[39mself\u001b[39m\u001b[39m.\u001b[39m_next_index()  \u001b[39m# may raise StopIteration\u001b[39;00m\n\u001b[1;32m--> <a href='file:///c%3A/Users/konsz/AppData/Local/Programs/Python/Python310/lib/site-packages/torch/utils/data/dataloader.py?line=569'>570</a>\u001b[0m     data \u001b[39m=\u001b[39m \u001b[39mself\u001b[39;49m\u001b[39m.\u001b[39;49m_dataset_fetcher\u001b[39m.\u001b[39;49mfetch(index)  \u001b[39m# may raise StopIteration\u001b[39;00m\n\u001b[0;32m    <a href='file:///c%3A/Users/konsz/AppData/Local/Programs/Python/Python310/lib/site-packages/torch/utils/data/dataloader.py?line=570'>571</a>\u001b[0m     \u001b[39mif\u001b[39;00m \u001b[39mself\u001b[39m\u001b[39m.\u001b[39m_pin_memory:\n\u001b[0;32m    <a href='file:///c%3A/Users/konsz/AppData/Local/Programs/Python/Python310/lib/site-packages/torch/utils/data/dataloader.py?line=571'>572</a>\u001b[0m         data \u001b[39m=\u001b[39m _utils\u001b[39m.\u001b[39mpin_memory\u001b[39m.\u001b[39mpin_memory(data)\n",
      "File \u001b[1;32mc:\\Users\\konsz\\AppData\\Local\\Programs\\Python\\Python310\\lib\\site-packages\\torch\\utils\\data\\_utils\\fetch.py:49\u001b[0m, in \u001b[0;36m_MapDatasetFetcher.fetch\u001b[1;34m(self, possibly_batched_index)\u001b[0m\n\u001b[0;32m     <a href='file:///c%3A/Users/konsz/AppData/Local/Programs/Python/Python310/lib/site-packages/torch/utils/data/_utils/fetch.py?line=46'>47</a>\u001b[0m \u001b[39mdef\u001b[39;00m \u001b[39mfetch\u001b[39m(\u001b[39mself\u001b[39m, possibly_batched_index):\n\u001b[0;32m     <a href='file:///c%3A/Users/konsz/AppData/Local/Programs/Python/Python310/lib/site-packages/torch/utils/data/_utils/fetch.py?line=47'>48</a>\u001b[0m     \u001b[39mif\u001b[39;00m \u001b[39mself\u001b[39m\u001b[39m.\u001b[39mauto_collation:\n\u001b[1;32m---> <a href='file:///c%3A/Users/konsz/AppData/Local/Programs/Python/Python310/lib/site-packages/torch/utils/data/_utils/fetch.py?line=48'>49</a>\u001b[0m         data \u001b[39m=\u001b[39m [\u001b[39mself\u001b[39m\u001b[39m.\u001b[39mdataset[idx] \u001b[39mfor\u001b[39;00m idx \u001b[39min\u001b[39;00m possibly_batched_index]\n\u001b[0;32m     <a href='file:///c%3A/Users/konsz/AppData/Local/Programs/Python/Python310/lib/site-packages/torch/utils/data/_utils/fetch.py?line=49'>50</a>\u001b[0m     \u001b[39melse\u001b[39;00m:\n\u001b[0;32m     <a href='file:///c%3A/Users/konsz/AppData/Local/Programs/Python/Python310/lib/site-packages/torch/utils/data/_utils/fetch.py?line=50'>51</a>\u001b[0m         data \u001b[39m=\u001b[39m \u001b[39mself\u001b[39m\u001b[39m.\u001b[39mdataset[possibly_batched_index]\n",
      "File \u001b[1;32mc:\\Users\\konsz\\AppData\\Local\\Programs\\Python\\Python310\\lib\\site-packages\\torch\\utils\\data\\_utils\\fetch.py:49\u001b[0m, in \u001b[0;36m<listcomp>\u001b[1;34m(.0)\u001b[0m\n\u001b[0;32m     <a href='file:///c%3A/Users/konsz/AppData/Local/Programs/Python/Python310/lib/site-packages/torch/utils/data/_utils/fetch.py?line=46'>47</a>\u001b[0m \u001b[39mdef\u001b[39;00m \u001b[39mfetch\u001b[39m(\u001b[39mself\u001b[39m, possibly_batched_index):\n\u001b[0;32m     <a href='file:///c%3A/Users/konsz/AppData/Local/Programs/Python/Python310/lib/site-packages/torch/utils/data/_utils/fetch.py?line=47'>48</a>\u001b[0m     \u001b[39mif\u001b[39;00m \u001b[39mself\u001b[39m\u001b[39m.\u001b[39mauto_collation:\n\u001b[1;32m---> <a href='file:///c%3A/Users/konsz/AppData/Local/Programs/Python/Python310/lib/site-packages/torch/utils/data/_utils/fetch.py?line=48'>49</a>\u001b[0m         data \u001b[39m=\u001b[39m [\u001b[39mself\u001b[39;49m\u001b[39m.\u001b[39;49mdataset[idx] \u001b[39mfor\u001b[39;00m idx \u001b[39min\u001b[39;00m possibly_batched_index]\n\u001b[0;32m     <a href='file:///c%3A/Users/konsz/AppData/Local/Programs/Python/Python310/lib/site-packages/torch/utils/data/_utils/fetch.py?line=49'>50</a>\u001b[0m     \u001b[39melse\u001b[39;00m:\n\u001b[0;32m     <a href='file:///c%3A/Users/konsz/AppData/Local/Programs/Python/Python310/lib/site-packages/torch/utils/data/_utils/fetch.py?line=50'>51</a>\u001b[0m         data \u001b[39m=\u001b[39m \u001b[39mself\u001b[39m\u001b[39m.\u001b[39mdataset[possibly_batched_index]\n",
      "File \u001b[1;32mc:\\Artificial Intelligence\\S6\\Robotics\\RoboticsII-Jetbot\\model_src\\data.py:36\u001b[0m, in \u001b[0;36mJetBotDataset.__getitem__\u001b[1;34m(self, idx)\u001b[0m\n\u001b[0;32m     <a href='file:///c%3A/Artificial%20Intelligence/S6/Robotics/RoboticsII-Jetbot/model_src/data.py?line=32'>33</a>\u001b[0m img_name \u001b[39m=\u001b[39m \u001b[39m'\u001b[39m\u001b[39m{:04d}\u001b[39;00m\u001b[39m_\u001b[39m\u001b[39m{:03d}\u001b[39;00m\u001b[39m.jpg\u001b[39m\u001b[39m'\u001b[39m\u001b[39m.\u001b[39mformat(\u001b[39mround\u001b[39m(row[\u001b[39m'\u001b[39m\u001b[39mstep_no\u001b[39m\u001b[39m'\u001b[39m]), \u001b[39mround\u001b[39m(row[\u001b[39m'\u001b[39m\u001b[39maugment_idx\u001b[39m\u001b[39m'\u001b[39m]))\n\u001b[0;32m     <a href='file:///c%3A/Artificial%20Intelligence/S6/Robotics/RoboticsII-Jetbot/model_src/data.py?line=33'>34</a>\u001b[0m img_path \u001b[39m=\u001b[39m join(\u001b[39mself\u001b[39m\u001b[39m.\u001b[39mdataset_path, run_folder, img_name)\n\u001b[1;32m---> <a href='file:///c%3A/Artificial%20Intelligence/S6/Robotics/RoboticsII-Jetbot/model_src/data.py?line=35'>36</a>\u001b[0m img \u001b[39m=\u001b[39m cv2\u001b[39m.\u001b[39;49mimread(img_path)\n\u001b[0;32m     <a href='file:///c%3A/Artificial%20Intelligence/S6/Robotics/RoboticsII-Jetbot/model_src/data.py?line=36'>37</a>\u001b[0m img \u001b[39m=\u001b[39m cv2\u001b[39m.\u001b[39mresize(img, (\u001b[39m224\u001b[39m, \u001b[39m224\u001b[39m))\n\u001b[0;32m     <a href='file:///c%3A/Artificial%20Intelligence/S6/Robotics/RoboticsII-Jetbot/model_src/data.py?line=37'>38</a>\u001b[0m img \u001b[39m=\u001b[39m np\u001b[39m.\u001b[39mtranspose(img, (\u001b[39m2\u001b[39m, \u001b[39m0\u001b[39m, \u001b[39m1\u001b[39m))\u001b[39m.\u001b[39mastype(np\u001b[39m.\u001b[39mfloat32)\n",
      "\u001b[1;31mKeyboardInterrupt\u001b[0m: "
     ]
    }
   ],
   "source": [
    "NUM_EPOCHS = 50\n",
    "time = str(datetime.now()).replace(' ', '-').replace(':', '-')\n",
    "BEST_MODEL_PATH = 'model/best_model.pth'\n",
    "models_path = 'model/archive'\n",
    "best_loss = torch.inf\n",
    "\n",
    "optimizer = optim.Adam(model.parameters())\n",
    "\n",
    "for epoch in range(NUM_EPOCHS):\n",
    "    \n",
    "    model.train()\n",
    "    train_loss = 0.0\n",
    "    for imgs, controls in iter(train_dataloader):\n",
    "        imgs = imgs.to(device)\n",
    "        controls = controls.to(device)\n",
    "        optimizer.zero_grad()\n",
    "        outputs = model(imgs).double()\n",
    "        loss = mse_loss(outputs, controls)\n",
    "        train_loss += loss\n",
    "        loss.backward()\n",
    "        optimizer.step()\n",
    "    train_loss /= len(train_dataloader)\n",
    "    \n",
    "    model.eval()\n",
    "    test_loss = 0.0\n",
    "    for images, labels in iter(test_dataloader):\n",
    "        images = images.to(device)\n",
    "        labels = labels.to(device)\n",
    "        outputs = model(images)\n",
    "        loss = mse_loss(outputs, labels)\n",
    "        test_loss += float(loss)\n",
    "    test_loss /= len(test_dataloader)\n",
    "    \n",
    "    print('%f, %f' % (train_loss, test_loss))\n",
    "    file_name = f'{time}-epoch-{epoch}.pt'\n",
    "    file_path = models_path + '/' + file_name\n",
    "    torch.save(model.state_dict(), file_path)\n",
    "    if test_loss < best_loss:\n",
    "        torch.save(model.state_dict(), BEST_MODEL_PATH)\n",
    "        best_loss = test_loss"
   ]
  }
 ],
 "metadata": {
  "interpreter": {
   "hash": "4d23b1cc31408ba59c72afb03ce07d8c08db8e1ae7bdb80d27747a1bfbd8e34d"
  },
  "kernelspec": {
   "display_name": "Python 3.10.4 64-bit",
   "language": "python",
   "name": "python3"
  },
  "language_info": {
   "codemirror_mode": {
    "name": "ipython",
    "version": 3
   },
   "file_extension": ".py",
   "mimetype": "text/x-python",
   "name": "python",
   "nbconvert_exporter": "python",
   "pygments_lexer": "ipython3",
   "version": "3.10.4"
  },
  "orig_nbformat": 4
 },
 "nbformat": 4,
 "nbformat_minor": 2
}
